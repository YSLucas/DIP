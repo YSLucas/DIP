{
 "cells": [
  {
   "cell_type": "markdown",
   "metadata": {},
   "source": [
    "# DIP opdracht 2: Letterfrequenties\n",
    "Lucas Siekkötter, 1770991\n",
    "&\n",
    "Wijnand van Dijk, 1762733 "
   ]
  },
  {
   "cell_type": "markdown",
   "metadata": {},
   "source": [
    "### Imports"
   ]
  },
  {
   "cell_type": "code",
   "execution_count": 1,
   "metadata": {},
   "outputs": [],
   "source": [
    "import numpy\n",
    "import string\n",
    "import numpy\n",
    "from numpy.matrixlib.defmatrix import matrix\n",
    "from collections import Counter"
   ]
  },
  {
   "cell_type": "markdown",
   "metadata": {},
   "source": [
    "### Code"
   ]
  },
  {
   "cell_type": "code",
   "execution_count": 2,
   "metadata": {},
   "outputs": [],
   "source": [
    "leestekens = [\".\", \",\", \":\", \";\", \"\\'\", \"\\\"\", \"-\", \"_\", \"!\", \"?\", \"(\", \")\", \"\\\\\"]\n",
    "\n",
    "abc = list(string.ascii_lowercase)\n",
    "abc.extend([\"_\", \"%\"])"
   ]
  },
  {
   "cell_type": "code",
   "execution_count": 3,
   "metadata": {},
   "outputs": [
    {
     "name": "stdout",
     "output_type": "stream",
     "text": [
      "['\\ufeffi', 'on', 'ne', 'e_', '_m', 'mo', 'or', 'rn', 'ni', 'in', 'ng', 'g%', '_w', 'wh', 'he', 'en', 'n_', '_g', 'gr', 're', 'eg', 'go', 'or', 'r_', '_s', 'sa', 'am', 'ms', 'sa', 'a_', '_w', 'wo', 'ok', 'ke', 'e_', '_f', 'fr', 'ro', 'om', 'm_', '_t', 'tr', 'ro', 'ou', 'ub', 'bl', 'le', 'ed', 'd_', '_d', 'dr', 're', 'ea', 'am', 'ms', 's%', '_h', 'he', 'e_', '_f', 'fo', 'ou', 'un', 'nd', 'hi', 'im', 'ms', 'se', 'el', 'lf', 'f_', '_t', 'tr', 'ra', 'an', 'ns', 'sf', 'fo', 'or', 'rm', 'me', 'ed', 'd_', '_i', 'in', 'n_', '_h', 'hi', 'is', 's_', '_b', 'be', 'ed', 'd_', '_i', 'in', 'nt', 'to', 'o_', '_a']\n"
     ]
    }
   ],
   "source": [
    "# Mappers\n",
    "def mapper_get_lines():\n",
    "    \"\"\"\n",
    "    \n",
    "    \"\"\"\n",
    "    res = []\n",
    "    with open(\"data/train_eng/Moby_Dick11.txt\", \"r\", encoding=\"utf8\") as f:\n",
    "        lines = f.readlines()\n",
    "\n",
    "        for line in lines:\n",
    "            line = line.strip()\n",
    "            if line != \"\":\n",
    "                res.append(line)\n",
    "    \n",
    "    return res\n",
    "\n",
    "def mapper_replace_punct(text, sign):\n",
    "    \"\"\"\n",
    "    Replace all punctuation with % and replace spaces with _\n",
    "    @param  sign: leestekens\n",
    "    @return     : text waar leestekens vervangen zijn\n",
    "    \"\"\"\n",
    "    res = []\n",
    "    for line in text:\n",
    "        for i in sign:\n",
    "            line = line.replace(i, \"%\")\n",
    "        \n",
    "        line = line.replace(\" \", \"_\")\n",
    "        line = line.lower()\n",
    "        res.append(line)\n",
    "\n",
    "    return res\n",
    "\n",
    "\n",
    "# Filter\n",
    "def filter_for_loop(txt):\n",
    "    \"\"\"\n",
    "    Get all 2 letter combinations in text\n",
    "    @param  txt: tekst waat combinaties uit gehaald worden\n",
    "    @return    : lijst met combinaties in tekst\n",
    "    \"\"\"\n",
    "    combinations = []\n",
    "    for line in txt:\n",
    "        for letter in range(0, len(line)):\n",
    "            try:\n",
    "                res = line[letter] + line[letter + 1]\n",
    "                # leesteken + spatie is niet relevant dus die combinaties kunnen eruit. \"\\n\" zitten er ook tussen en die kunnen ook weg\n",
    "                if res != \"%_\" and res != \"_%\" and \"\\n\" not in res: \n",
    "                    combinations.append(res)\n",
    "\n",
    "            except:\n",
    "                pass\n",
    "    \n",
    "    return combinations\n",
    "\n",
    "# Reduce\n",
    "def reducer():\n",
    "    \"\"\"\n",
    "    \"\"\"\n",
    "    matrix = numpy.zeros((28, 28))\n",
    "\n",
    "def main():\n",
    "    \"\"\"\n",
    "    Main function\n",
    "    \"\"\"\n",
    "    lines_list = mapper_get_lines()\n",
    "    updated_text = mapper_replace_punct(lines_list, leestekens)\n",
    "    combi_list = filter_for_loop(updated_text)\n",
    "    print(combi_list[0:100])\n",
    "    #c = Counter(combi_list)\n",
    "    #print(c)\n",
    "    # print(updated_text)\n",
    "\n",
    "\n",
    "main()"
   ]
  },
  {
   "cell_type": "code",
   "execution_count": 4,
   "metadata": {},
   "outputs": [],
   "source": [
    "az = 'abcdefghijklmnopqrstuvwxyz_%'\n",
    "def mapper(x):\n",
    "    print(numpy.zeros((28,28)))\n",
    "\n"
   ]
  }
 ],
 "metadata": {
  "kernelspec": {
   "display_name": "Python 3",
   "language": "python",
   "name": "python3"
  },
  "language_info": {
   "codemirror_mode": {
    "name": "ipython",
    "version": 3
   },
   "file_extension": ".py",
   "mimetype": "text/x-python",
   "name": "python",
   "nbconvert_exporter": "python",
   "pygments_lexer": "ipython3",
   "version": "3.8.0"
  }
 },
 "nbformat": 4,
 "nbformat_minor": 4
}
